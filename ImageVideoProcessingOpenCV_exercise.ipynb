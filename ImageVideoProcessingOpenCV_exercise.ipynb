{
 "cells": [
  {
   "cell_type": "code",
   "execution_count": null,
   "id": "59bf48a5-c4c4-484d-8b61-dd8a3e2cd4e0",
   "metadata": {},
   "outputs": [],
   "source": [
    "# Check OpenCV Version"
   ]
  },
  {
   "cell_type": "code",
   "execution_count": null,
   "id": "844c2c9a-26d8-4f3e-bc2c-4a30144dc57a",
   "metadata": {},
   "outputs": [],
   "source": [
    "import cv2 as cv\n",
    "cv.__version__"
   ]
  },
  {
   "cell_type": "code",
   "execution_count": null,
   "id": "7d313760-e5c9-46ed-a983-5687f26760c6",
   "metadata": {},
   "outputs": [],
   "source": [
    "# Display Image"
   ]
  },
  {
   "cell_type": "code",
   "execution_count": null,
   "id": "99dc7e39-61d1-4f80-b693-2aa25ecad018",
   "metadata": {},
   "outputs": [],
   "source": [
    "import cv2 as cv\n",
    "\n",
    "img = cv.imread(\"./images/butterfly.jpg\")\n",
    "cv.imshow(\"Display window\", img)\n",
    "\n",
    "k=cv.waitKey(0)\n",
    "if k == ord(\"q\"):\n",
    "    cv.imwrite(\"starry_night.png\", img)\n",
    "cv.destroyAllWindows()\n"
   ]
  },
  {
   "cell_type": "code",
   "execution_count": null,
   "id": "1f9df9fb-797f-4322-95b9-9b2dba1a2953",
   "metadata": {},
   "outputs": [],
   "source": [
    "# Saving Video - Code"
   ]
  },
  {
   "cell_type": "code",
   "execution_count": null,
   "id": "893d4a26-091f-42f2-9be9-fbfb7e7243ac",
   "metadata": {},
   "outputs": [],
   "source": [
    "cap = cv.VideoCapture(0)\n",
    "fourcc = cv.VideoWriter_fourcc(*'XVID')\n",
    "out = cv.VideoWriter('output.avi', fourcc, 20.0, (640,  480))\n",
    "\n",
    "while cap.isOpened():\n",
    "    ret, frame = cap.read()\n",
    "    frame = cv.flip(frame, 0)\n",
    "\n",
    "    out.write(frame)\n",
    "    cv.imshow('frame', frame)\n",
    "    if cv.waitKey(1) == ord('q'):\n",
    "        break\n",
    "\n",
    "cap.release()\n",
    "out.release()\n",
    "cv.destroyAllWindows()\n"
   ]
  },
  {
   "cell_type": "code",
   "execution_count": null,
   "id": "91f1f24c-2a1c-4675-a2ac-76ec17eec49c",
   "metadata": {},
   "outputs": [],
   "source": [
    "# Playing Video"
   ]
  },
  {
   "cell_type": "code",
   "execution_count": null,
   "id": "84f19905-fa43-41dd-b41f-68c52b51ced7",
   "metadata": {},
   "outputs": [],
   "source": [
    "import numpy as np\n",
    "import cv2 as cv\n",
    "\n",
    "cap = cv.VideoCapture('./images/output.avi')\n",
    "while cap.isOpened():\n",
    "    ret, frame = cap.read()\n",
    "    gray = cv.cvtColor(frame, cv.COLOR_BGR2GRAY)\n",
    "    cv.imshow('frame', gray)\n",
    "    if cv.waitKey(1) == ord('q'):\n",
    "        break\n",
    "cap.release()\n",
    "cv.destroyAllWindows()\n"
   ]
  },
  {
   "cell_type": "code",
   "execution_count": null,
   "id": "6e0bab5e-6fe9-4a1b-b90f-c98ef723f8b7",
   "metadata": {},
   "outputs": [],
   "source": [
    "# Create a black image"
   ]
  },
  {
   "cell_type": "code",
   "execution_count": null,
   "id": "e09896dc-c474-48d1-ab88-44fc40db7399",
   "metadata": {},
   "outputs": [],
   "source": [
    "img = np.zeros((512,512,3), np.uint8)"
   ]
  },
  {
   "cell_type": "code",
   "execution_count": null,
   "id": "872cfa7a-ddfd-4030-8f0f-01e31ecd8fc7",
   "metadata": {},
   "outputs": [],
   "source": [
    "# Draw a diagonal blue line with thickness of 5 px"
   ]
  },
  {
   "cell_type": "code",
   "execution_count": null,
   "id": "c3364651-89f0-4b42-a631-e31fbb4b2697",
   "metadata": {},
   "outputs": [],
   "source": [
    "cv.line(img,(0,0),(511,511),(255,0,0),5)\n",
    "cv.imshow(\"Display window\", img)\n",
    "cv.waitKey(0)\n",
    "cv.destroyAllWindows()"
   ]
  },
  {
   "cell_type": "code",
   "execution_count": null,
   "id": "b1b22639-1874-4322-bf37-556375f33c8d",
   "metadata": {},
   "outputs": [],
   "source": [
    "# Draw a rectangle"
   ]
  },
  {
   "cell_type": "code",
   "execution_count": null,
   "id": "12a316ca-b048-4e57-8cb1-e8651dd637e1",
   "metadata": {},
   "outputs": [],
   "source": [
    "cv.rectangle(img,(384,0),(510,128),(0,255,0),3)\n",
    "cv.imshow(\"Display window\", img)\n",
    "cv.waitKey(0)\n",
    "cv.destroyAllWindows()"
   ]
  },
  {
   "cell_type": "code",
   "execution_count": null,
   "id": "ac2925a4-8cac-4df4-8fa8-6382367ad53b",
   "metadata": {},
   "outputs": [],
   "source": [
    "# Draw a circle"
   ]
  },
  {
   "cell_type": "code",
   "execution_count": null,
   "id": "51d0ef89-87aa-4e93-be33-c957131c9a44",
   "metadata": {},
   "outputs": [],
   "source": [
    "cv.circle(img,(447,63), 63, (0,0,255), -1)\n",
    "cv.imshow(\"Display window\", img)\n",
    "cv.waitKey(0)\n",
    "cv.destroyAllWindows()"
   ]
  },
  {
   "cell_type": "code",
   "execution_count": null,
   "id": "6869bc59-e9ae-4de2-9a45-f16013b26577",
   "metadata": {},
   "outputs": [],
   "source": [
    "# Draw a polygon"
   ]
  },
  {
   "cell_type": "code",
   "execution_count": null,
   "id": "49a112c6-8282-47c6-a520-858c9ff66722",
   "metadata": {},
   "outputs": [],
   "source": [
    "pts = np.array([[10,5],[20,30],[70,20],[50,10]], np.int32)\n",
    "pts = pts.reshape((-1,1,2))\n",
    "cv.polylines(img,[pts],True,(0,255,255))\n",
    "cv.imshow(\"Display window\", img)\n",
    "cv.waitKey(0)\n",
    "cv.destroyAllWindows()"
   ]
  },
  {
   "cell_type": "code",
   "execution_count": null,
   "id": "b8379e92-b0a1-42a0-a8b0-b5f6d4b0b87d",
   "metadata": {},
   "outputs": [],
   "source": [
    "# Add text"
   ]
  },
  {
   "cell_type": "code",
   "execution_count": null,
   "id": "d2f5f46f-e02c-404a-af7c-209d191ffd2d",
   "metadata": {},
   "outputs": [],
   "source": [
    "font = cv2.FONT_HERSHEY_SIMPLEX\n",
    "cv.putText(img,'OpenCV',(10,500), font, 4,(255,255,255),2,cv2.LINE_AA)\n",
    "cv.imshow(\"Display window\", img)\n",
    "cv.waitKey(0)\n",
    "cv.destroyAllWindows()"
   ]
  },
  {
   "cell_type": "code",
   "execution_count": null,
   "id": "3b69a531-70eb-4f4e-bb98-7d041b1ec819",
   "metadata": {},
   "outputs": [],
   "source": [
    "# Activity: Drawing Function"
   ]
  },
  {
   "cell_type": "code",
   "execution_count": null,
   "id": "89f4e60e-46cd-468b-bc84-93c1eb1abb54",
   "metadata": {},
   "outputs": [],
   "source": [
    "img = cv.imread(\"./images/starry_night.jpg\")\n",
    "\n",
    "cv.rectangle(img,(120,150),(160,180),(0,255,0),3)\n",
    "cv.imshow(\"Display window\", img)\n",
    "cv.waitKey(0)\n",
    "cv.destroyAllWindows()"
   ]
  },
  {
   "cell_type": "code",
   "execution_count": null,
   "id": "8d060f09-a2d4-46f8-8626-4c8f09d3d393",
   "metadata": {},
   "outputs": [],
   "source": [
    "# Activity: Mouse Control (ESC to quit)"
   ]
  },
  {
   "cell_type": "code",
   "execution_count": null,
   "id": "1a016845-b673-411d-96c5-4e6578ba1c5f",
   "metadata": {},
   "outputs": [],
   "source": [
    "drawing = False # true if mouse is pressed\n",
    "mode = False # if True, draw rectangle. Press 'm' to toggle to curve\n",
    "ix,iy = -1,-1\n",
    "## mouse callback function\n",
    "def draw_circle(event,x,y,flags,param):\n",
    "    global ix,iy,drawing,mode\n",
    "    if event == cv.EVENT_LBUTTONDOWN:\n",
    "        drawing = True\n",
    "        ix,iy = x,y\n",
    "    elif event == cv.EVENT_MOUSEMOVE:\n",
    "        if drawing == True:\n",
    "            if mode == True:\n",
    "                cv.rectangle(img,(ix,iy),(x,y),(0,255,0),-1)\n",
    "            else:\n",
    "                cv.circle(img,(x,y),5,(0,0,255),-1)\n",
    "    elif event == cv.EVENT_LBUTTONUP:\n",
    "        drawing = False\n",
    "        if mode == True:\n",
    "            cv.rectangle(img,(ix,iy),(x,y),(0,255,0),-1)\n",
    "        else:\n",
    "            cv.circle(img,(x,y),5,(0,0,255),-1)\n",
    "\n",
    " ## Create a black image, a window and bind the function to window\n",
    "img = np.zeros((512,512,3), np.uint8)\n",
    "cv.namedWindow('image')\n",
    "cv.setMouseCallback('image',draw_circle)\n",
    "while(1):\n",
    "    cv.imshow('image',img)\n",
    "    if cv.waitKey(20) & 0xFF == 27:\n",
    "        break\n",
    "cv.destroyAllWindows()\n"
   ]
  },
  {
   "cell_type": "code",
   "execution_count": null,
   "id": "9521127a-6b0b-4e05-a839-ea77e2e33cc7",
   "metadata": {},
   "outputs": [],
   "source": [
    "# Accessing and Modifying Pixels"
   ]
  },
  {
   "cell_type": "code",
   "execution_count": null,
   "id": "981e196a-1a2f-494d-b7a4-c30f1da8ec83",
   "metadata": {},
   "outputs": [],
   "source": [
    "img = cv.imread(\"./images/butterfly.jpg\")\n",
    "k = cv.waitKey(0)\n",
    "px = img[100,100]\n",
    "print( px )\n",
    "img[100,100] = [255,255,255]\n",
    "px = img[100,100]\n",
    "print( px )"
   ]
  },
  {
   "cell_type": "code",
   "execution_count": null,
   "id": "329d430c-e966-465b-91d5-50ea4ddc96eb",
   "metadata": {},
   "outputs": [],
   "source": [
    "# Convert BRG to Gray Scale image"
   ]
  },
  {
   "cell_type": "code",
   "execution_count": null,
   "id": "3d032141-0acd-489c-8cb2-68e6581b0028",
   "metadata": {},
   "outputs": [],
   "source": [
    "img = cv.imread(\"./images/butterfly.jpg\")\n",
    "gray = cv.cvtColor(img, cv.COLOR_RGB2GRAY)\n",
    "cv.imshow(\"Gray Scale\",gray)\n",
    "cv.waitKey(0)\n",
    "cv.destroyAllWindows()"
   ]
  },
  {
   "cell_type": "code",
   "execution_count": null,
   "id": "49ebca56-39b7-4c8a-90bd-3db13e4bd180",
   "metadata": {},
   "outputs": [],
   "source": [
    "# Convert BRG to Gray Scale image"
   ]
  },
  {
   "cell_type": "code",
   "execution_count": null,
   "id": "8be4125a-969f-4111-9af6-8da9e26f2c88",
   "metadata": {},
   "outputs": [],
   "source": [
    "img = cv.imread(\"./images/butterfly.jpg\")\n",
    "hsv = cv.cvtColor(img, cv.COLOR_BGR2HSV)\n",
    "cv.imshow(\"HSV\",hsv)\n",
    "cv.waitKey(0)\n",
    "cv.destroyAllWindows()"
   ]
  },
  {
   "cell_type": "code",
   "execution_count": null,
   "id": "2392ff48-574d-433c-a890-87b67f98ef14",
   "metadata": {},
   "outputs": [],
   "source": [
    "# Splitting BGR Channels"
   ]
  },
  {
   "cell_type": "code",
   "execution_count": null,
   "id": "270d10b6-7f4d-4fcb-a1fa-e7d1ca0ef632",
   "metadata": {},
   "outputs": [],
   "source": [
    "img = cv.imread(\"./images/starry_night.jpg\")\n",
    "cv.imshow(\"Original\", img)\n",
    "\n",
    "b,g,r = cv.split(img)\n",
    "cv.imshow(\"Blue\", b)\n",
    "cv.imshow(\"Green \", g)\n",
    "cv.imshow(\"Red\", r)\n",
    "cv.waitKey(0)\n",
    "cv.destroyAllWindows()"
   ]
  },
  {
   "cell_type": "code",
   "execution_count": null,
   "id": "dfe85775-be87-409d-ae6b-db139a1f6bfe",
   "metadata": {},
   "outputs": [],
   "source": [
    "# Splitting HSV Channels"
   ]
  },
  {
   "cell_type": "code",
   "execution_count": null,
   "id": "0326fac1-dce6-44a2-91f5-628f59cdd02a",
   "metadata": {},
   "outputs": [],
   "source": [
    "img = cv.imread(\"./images/starry_night.jpg\")\n",
    "cv.imshow(\"Original\", img)\n",
    "\n",
    "hsv = cv.cvtColor(img, cv.COLOR_BGR2HSV)\n",
    "cv.imshow(\"HSV\",hsv)\n",
    "\n",
    "h,s,v = cv.split(hsv)\n",
    "cv.imshow(\"Hue\", h)\n",
    "cv.imshow(\"Saturation \", s)\n",
    "cv.imshow(\"Value\", v)\n",
    "cv.waitKey(0)\n",
    "cv.destroyAllWindows()"
   ]
  },
  {
   "cell_type": "code",
   "execution_count": null,
   "id": "ee01b360-5a39-4c3c-9641-c4436314fd30",
   "metadata": {},
   "outputs": [],
   "source": [
    "# Merging Channels"
   ]
  },
  {
   "cell_type": "code",
   "execution_count": null,
   "id": "9cd2323a-ec88-4eb0-a1c9-1d07e84536e1",
   "metadata": {},
   "outputs": [],
   "source": [
    "img = cv.imread(\"./images/butterfly.jpg\")\n",
    "cv.imshow(\"Original\", img)\n",
    "\n",
    "b,g,r = cv.split(img)\n",
    "\n",
    "img2 = cv.add(b,g,r)\n",
    "cv.imshow(\"Merge\", img2)\n",
    "\n",
    "cv.waitKey(0)\n",
    "cv.destroyAllWindows()"
   ]
  },
  {
   "cell_type": "code",
   "execution_count": null,
   "id": "c5ca978c-3810-4a4c-b3f1-dbf0af39ef0a",
   "metadata": {},
   "outputs": [],
   "source": [
    "# Activity: Splitting and Merging Channels"
   ]
  },
  {
   "cell_type": "code",
   "execution_count": null,
   "id": "c3ce2492-2fb8-4c68-b58b-fe2f879a7691",
   "metadata": {},
   "outputs": [],
   "source": [
    "img = cv.imread(\"./images/starry_night.jpg\")\n",
    "cv.imshow(\"Original\", img)\n",
    "\n",
    "b,g,r = cv.split(img)\n",
    "cv.imshow(\"Blue\", b)\n",
    "cv.imshow(\"Green \", g)\n",
    "cv.imshow(\"Red\", r)\n",
    "\n",
    "img2 = cv.merge((b,g,r))\n",
    "cv.imshow(\"Merged\", img2)\n",
    "\n",
    "img[:,:,2]=0\n",
    "cv.imshow(\"Modified\", img)\n",
    "\n",
    "cv.waitKey(0)\n",
    "cv.destroyAllWindows()"
   ]
  },
  {
   "cell_type": "code",
   "execution_count": null,
   "id": "e7433cdf-e183-4d6c-b0fc-6d56db6b1585",
   "metadata": {},
   "outputs": [],
   "source": [
    "# Image Addition"
   ]
  },
  {
   "cell_type": "code",
   "execution_count": null,
   "id": "c1a0e821-9f53-4f7e-b093-e9873d0036c7",
   "metadata": {},
   "outputs": [],
   "source": [
    "img = cv.imread(\"./images/butterfly.jpg\")\n",
    "\n",
    "cv.imshow(\"Original\", img)\n",
    "\n",
    "b,g,r = cv.split(img)\n",
    "\n",
    "img2 = cv.add(b,g,r)\n",
    "cv.imshow(\"Add\", img2)\n",
    "\n",
    "cv.waitKey(0)\n",
    "cv.destroyAllWindows()"
   ]
  },
  {
   "cell_type": "code",
   "execution_count": null,
   "id": "ed4f93f2-ef1d-4ce5-99ed-0f9f534a4a36",
   "metadata": {},
   "outputs": [],
   "source": [
    "# Image Blending"
   ]
  },
  {
   "cell_type": "code",
   "execution_count": null,
   "id": "88d6755e-6556-410b-8fe8-28ba957984fb",
   "metadata": {},
   "outputs": [],
   "source": [
    "img1 = cv.imread(\"./images/butterfly.jpg\")\n",
    "img2 = cv.imread('./images/opencv-logo.png')\n",
    "\n",
    "height, width, _ = img1.shape\n",
    "\n",
    "# Resize img2 to match the size of img1\n",
    "img2_resized = cv.resize(img2, (width, height))\n",
    "\n",
    "dst=cv.addWeighted(img1,0.7,img2_resized,0.3,0.0)\n",
    "cv.imshow('dst',dst)\n",
    "\n",
    "cv.waitKey(0)\n",
    "cv.destroyAllWindows()"
   ]
  },
  {
   "cell_type": "code",
   "execution_count": null,
   "id": "b54b8db5-e9fc-4751-b86c-d2f5a14c88ca",
   "metadata": {},
   "outputs": [],
   "source": [
    "# Scaling"
   ]
  },
  {
   "cell_type": "code",
   "execution_count": null,
   "id": "a5c51faa-77b5-45c9-9841-e9bb43f7953a",
   "metadata": {},
   "outputs": [],
   "source": [
    "import numpy as np\n",
    "import cv2 as cv\n",
    "\n",
    "img = cv.imread('./images/butterfly.jpg')\n",
    "cv.imshow(\"Original\", img)\n",
    "res = cv.resize(img,None,fx=2, fy=2, interpolation = cv.INTER_CUBIC)\n",
    "cv.imshow(\"Scaled\", res)\n",
    "\n",
    "cv.waitKey(0)\n",
    "cv.destroyAllWindows()\n"
   ]
  },
  {
   "cell_type": "code",
   "execution_count": null,
   "id": "3d5278b6-4519-432f-813d-339c3912311a",
   "metadata": {},
   "outputs": [],
   "source": [
    "# Translation"
   ]
  },
  {
   "cell_type": "code",
   "execution_count": null,
   "id": "944aad96-bcb5-4518-b286-9f6399f5de6d",
   "metadata": {},
   "outputs": [],
   "source": [
    "import numpy as np\n",
    "import cv2 as cv\n",
    "\n",
    "img = cv.imread('./images/butterfly.jpg')\n",
    "rows,cols,_= img.shape\n",
    "\n",
    "M = np.float32([[1,0,100],[0,1,50]])\n",
    "dst = cv.warpAffine(img,M,(cols,rows))\n",
    "cv.imshow('img',dst)\n",
    "\n",
    "cv.waitKey(0)\n",
    "cv.destroyAllWindows()"
   ]
  },
  {
   "cell_type": "code",
   "execution_count": null,
   "id": "00bb7440-095f-404e-b3a7-758448d8b82c",
   "metadata": {},
   "outputs": [],
   "source": [
    "# Rotation"
   ]
  },
  {
   "cell_type": "code",
   "execution_count": null,
   "id": "5eb6810f-41f7-40dc-bd0a-d9be699c9126",
   "metadata": {},
   "outputs": [],
   "source": [
    "img = cv.imread('./images/butterfly.jpg',0)\n",
    "rows,cols = img.shape\n",
    "\n",
    "# cols-1 and rows-1 are the coordinate limits.\n",
    "M = cv.getRotationMatrix2D(((cols-1)/2.0,(rows-1)/2.0),90,1)\n",
    "dst = cv.warpAffine(img,M,(cols,rows))\n",
    "\n",
    "cv.imshow('img',dst)\n",
    "cv.waitKey(0)\n",
    "cv.destroyAllWindows()"
   ]
  },
  {
   "cell_type": "code",
   "execution_count": null,
   "id": "60728246-fd19-44a3-80cd-07c517568f0a",
   "metadata": {},
   "outputs": [],
   "source": [
    "# Affline Transformation\n",
    "import numpy as np\n",
    "import cv2 as cv\n",
    "import matplotlib.pyplot as plt\n",
    "\n",
    "img = cv.imread('./images/butterfly.jpg')\n",
    "rows,cols,ch = img.shape\n",
    "\n",
    "pts1 = np.float32([[50,50],[200,50],[50,200]])\n",
    "pts2 = np.float32([[10,100],[200,50],[100,250]])\n",
    "M = cv.getAffineTransform(pts1,pts2)\n",
    "dst = cv.warpAffine(img,M,(cols,rows))\n",
    "\n",
    "plt.subplot(121),plt.imshow(img),plt.title('Input')\n",
    "plt.subplot(122),plt.imshow(dst),plt.title('Output')\n",
    "plt.show()"
   ]
  },
  {
   "cell_type": "code",
   "execution_count": null,
   "id": "a42d1d56-5671-435f-8802-a6f09a9b7e07",
   "metadata": {},
   "outputs": [],
   "source": [
    "# Perspective Transformation"
   ]
  },
  {
   "cell_type": "code",
   "execution_count": null,
   "id": "f589d92d-52b0-481c-b811-0917febf3b7f",
   "metadata": {},
   "outputs": [],
   "source": [
    "import numpy as np\n",
    "import cv2 as cv\n",
    "import matplotlib.pyplot as plt\n",
    "\n",
    "img = cv.imread('./images/sudoku.png')\n",
    "rows,cols,_ = img.shape\n",
    "\n",
    "pts1 = np.float32([[56,65],[368,52],[28,387],[389,390]])\n",
    "pts2 = np.float32([[0,0],[300,0],[0,300],[300,300]])\n",
    "M = cv.getPerspectiveTransform(pts1,pts2)\n",
    "dst = cv.warpPerspective(img,M,(300,300))\n",
    "\n",
    "plt.subplot(121),plt.imshow(img),plt.title('Input')\n",
    "plt.subplot(122),plt.imshow(dst),plt.title('Output')\n",
    "plt.show()"
   ]
  },
  {
   "cell_type": "code",
   "execution_count": null,
   "id": "7ae20d85-cd98-41a2-9528-c1d113ea3278",
   "metadata": {},
   "outputs": [],
   "source": [
    "# 2D Convolution ( Image Filtering )"
   ]
  },
  {
   "cell_type": "code",
   "execution_count": null,
   "id": "88296011-fdc5-4efd-b937-87ccd16dccd8",
   "metadata": {},
   "outputs": [],
   "source": [
    "import numpy as np\n",
    "import cv2 as cv\n",
    "from matplotlib import pyplot as plt\n",
    "\n",
    "img = cv.imread('./images/butterfly.jpg')\n",
    "kernel = np.ones((5,5),np.float32)/25\n",
    "dst = cv.filter2D(img,-1,kernel)\n",
    "\n",
    "plt.subplot(121),plt.imshow(img),plt.title('Original')\n",
    "plt.xticks([]), plt.yticks([])\n",
    "plt.subplot(122),plt.imshow(dst),plt.title('Averaging')\n",
    "plt.xticks([]), plt.yticks([])\n",
    "plt.show()"
   ]
  },
  {
   "cell_type": "code",
   "execution_count": null,
   "id": "e6332755-35f7-448e-be09-bbe3535c56a3",
   "metadata": {},
   "outputs": [],
   "source": [
    "# Averaging Blurring"
   ]
  },
  {
   "cell_type": "code",
   "execution_count": null,
   "id": "99ddac14-945c-4eb2-ac1c-36bd0bcf83fd",
   "metadata": {},
   "outputs": [],
   "source": [
    "import cv2 as cv\n",
    "import numpy as np\n",
    "from matplotlib import pyplot as plt\n",
    "img = cv.imread('./images/opencv-logo.png')\n",
    "blur = cv.blur(img,(5,5))\n",
    "plt.subplot(121),plt.imshow(img),plt.title('Original')\n",
    "plt.xticks([]), plt.yticks([])\n",
    "plt.subplot(122),plt.imshow(blur),plt.title('Blurred')\n",
    "plt.xticks([]), plt.yticks([])\n",
    "plt.show()"
   ]
  },
  {
   "cell_type": "code",
   "execution_count": null,
   "id": "99db94cf-eded-4f71-90bc-da23a87bda7e",
   "metadata": {},
   "outputs": [],
   "source": [
    "# Guassian Blurring"
   ]
  },
  {
   "cell_type": "code",
   "execution_count": null,
   "id": "696bb8da-4481-4983-82c7-dd0ca7d8ee0c",
   "metadata": {},
   "outputs": [],
   "source": [
    "import cv2 as cv\n",
    "import numpy as np\n",
    "from matplotlib import pyplot as plt\n",
    "img = cv.imread('./images/opencv-logo.png')\n",
    "blur = cv.GaussianBlur(img,(5,5),0)\n",
    "plt.subplot(121),plt.imshow(img),plt.title('Original')\n",
    "plt.xticks([]), plt.yticks([])\n",
    "plt.subplot(122),plt.imshow(blur),plt.title('Blurred')\n",
    "plt.xticks([]), plt.yticks([])\n",
    "plt.show()"
   ]
  },
  {
   "cell_type": "code",
   "execution_count": null,
   "id": "4407c43d-ae86-4735-8d01-0093ff012a67",
   "metadata": {},
   "outputs": [],
   "source": [
    "# Erosion"
   ]
  },
  {
   "cell_type": "code",
   "execution_count": null,
   "id": "d3146e06-3034-48e7-8ef6-9d2a804a7d7e",
   "metadata": {},
   "outputs": [],
   "source": [
    "import cv2 as cv\n",
    "import numpy as np\n",
    "import matplotlib.pyplot as plt\n",
    "\n",
    "img = cv.imread(\"./images/starry_night.jpg\")\n",
    "\n",
    "kernel = np.ones((5,5),np.uint8)\n",
    "erosion = cv.erode(img,kernel,iterations = 1)\n",
    "\n",
    "plt.subplot(121),plt.imshow(img),plt.title('Original')\n",
    "plt.xticks([]), plt.yticks([])\n",
    "plt.subplot(122),plt.imshow(erosion),plt.title('Erosion')\n",
    "plt.xticks([]), plt.yticks([])\n",
    "plt.show()"
   ]
  },
  {
   "cell_type": "code",
   "execution_count": null,
   "id": "c6cfb123-5836-45fd-ab39-44f3c7ec152b",
   "metadata": {},
   "outputs": [],
   "source": []
  },
  {
   "cell_type": "code",
   "execution_count": null,
   "id": "212cfa7f-e211-4406-a3d6-7ec8253ae7af",
   "metadata": {},
   "outputs": [],
   "source": [
    "\n",
    "# Dilation\n",
    "\n",
    "import cv2 as cv\n",
    "import numpy as np\n",
    "import matplotlib.pyplot as plt"
   ]
  },
  {
   "cell_type": "code",
   "execution_count": null,
   "id": "546bd11e-9d65-4bfe-91be-d0b35bc17df1",
   "metadata": {},
   "outputs": [],
   "source": []
  },
  {
   "cell_type": "code",
   "execution_count": null,
   "id": "3e9e313d-9e7e-4ec3-ab6f-07be7434c384",
   "metadata": {},
   "outputs": [],
   "source": []
  },
  {
   "cell_type": "code",
   "execution_count": null,
   "id": "468d31da-a41a-4b80-a7f3-b72fe0a585e3",
   "metadata": {},
   "outputs": [],
   "source": []
  }
 ],
 "metadata": {
  "kernelspec": {
   "display_name": "Python 3 (ipykernel)",
   "language": "python",
   "name": "python3"
  },
  "language_info": {
   "codemirror_mode": {
    "name": "ipython",
    "version": 3
   },
   "file_extension": ".py",
   "mimetype": "text/x-python",
   "name": "python",
   "nbconvert_exporter": "python",
   "pygments_lexer": "ipython3",
   "version": "3.12.10"
  }
 },
 "nbformat": 4,
 "nbformat_minor": 5
}
